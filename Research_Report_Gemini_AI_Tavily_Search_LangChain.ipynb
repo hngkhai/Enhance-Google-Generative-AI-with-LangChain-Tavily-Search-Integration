{
  "nbformat": 4,
  "nbformat_minor": 0,
  "metadata": {
    "colab": {
      "provenance": [],
      "toc_visible": true
    },
    "kernelspec": {
      "name": "python3",
      "display_name": "Python 3"
    },
    "language_info": {
      "name": "python"
    }
  },
  "cells": [
    {
      "cell_type": "code",
      "execution_count": null,
      "metadata": {
        "colab": {
          "base_uri": "https://localhost:8080/"
        },
        "id": "v-uxSHoN4flB",
        "outputId": "3f17b18d-f212-471c-c5f4-71170dd49b5d"
      },
      "outputs": [
        {
          "output_type": "stream",
          "name": "stdout",
          "text": [
            "Requirement already satisfied: langchain-cli in /usr/local/lib/python3.10/dist-packages (0.0.25)\n",
            "Requirement already satisfied: gitpython<4.0.0,>=3.1.40 in /usr/local/lib/python3.10/dist-packages (from langchain-cli) (3.1.43)\n",
            "Requirement already satisfied: langserve[all]>=0.0.51 in /usr/local/lib/python3.10/dist-packages (from langchain-cli) (0.2.2)\n",
            "Requirement already satisfied: libcst<2.0.0,>=1.3.1 in /usr/local/lib/python3.10/dist-packages (from langchain-cli) (1.4.0)\n",
            "Requirement already satisfied: tomlkit<0.13.0,>=0.12.2 in /usr/local/lib/python3.10/dist-packages (from langchain-cli) (0.12.5)\n",
            "Requirement already satisfied: typer[all]<0.10.0,>=0.9.0 in /usr/local/lib/python3.10/dist-packages (from langchain-cli) (0.9.4)\n",
            "Requirement already satisfied: uvicorn<0.24.0,>=0.23.2 in /usr/local/lib/python3.10/dist-packages (from langchain-cli) (0.23.2)\n",
            "Requirement already satisfied: gitdb<5,>=4.0.1 in /usr/local/lib/python3.10/dist-packages (from gitpython<4.0.0,>=3.1.40->langchain-cli) (4.0.11)\n",
            "Requirement already satisfied: httpx>=0.23.0 in /usr/local/lib/python3.10/dist-packages (from langserve[all]>=0.0.51->langchain-cli) (0.27.0)\n",
            "Requirement already satisfied: langchain-core<0.3,>=0.1 in /usr/local/lib/python3.10/dist-packages (from langserve[all]>=0.0.51->langchain-cli) (0.1.52)\n",
            "Requirement already satisfied: orjson>=2 in /usr/local/lib/python3.10/dist-packages (from langserve[all]>=0.0.51->langchain-cli) (3.10.5)\n",
            "Requirement already satisfied: pydantic>=1 in /usr/local/lib/python3.10/dist-packages (from langserve[all]>=0.0.51->langchain-cli) (2.7.3)\n",
            "Requirement already satisfied: pyproject-toml<0.0.11,>=0.0.10 in /usr/local/lib/python3.10/dist-packages (from langserve[all]>=0.0.51->langchain-cli) (0.0.10)\n",
            "Requirement already satisfied: fastapi<1,>=0.90.1 in /usr/local/lib/python3.10/dist-packages (from langserve[all]>=0.0.51->langchain-cli) (0.110.3)\n",
            "Requirement already satisfied: sse-starlette<2.0.0,>=1.3.0 in /usr/local/lib/python3.10/dist-packages (from langserve[all]>=0.0.51->langchain-cli) (1.8.2)\n",
            "Requirement already satisfied: pyyaml>=5.2 in /usr/local/lib/python3.10/dist-packages (from libcst<2.0.0,>=1.3.1->langchain-cli) (6.0.1)\n",
            "Requirement already satisfied: click<9.0.0,>=7.1.1 in /usr/local/lib/python3.10/dist-packages (from typer[all]<0.10.0,>=0.9.0->langchain-cli) (8.1.7)\n",
            "Requirement already satisfied: typing-extensions>=3.7.4.3 in /usr/local/lib/python3.10/dist-packages (from typer[all]<0.10.0,>=0.9.0->langchain-cli) (4.12.2)\n",
            "Requirement already satisfied: colorama<0.5.0,>=0.4.3 in /usr/local/lib/python3.10/dist-packages (from typer[all]<0.10.0,>=0.9.0->langchain-cli) (0.4.6)\n",
            "Requirement already satisfied: shellingham<2.0.0,>=1.3.0 in /usr/local/lib/python3.10/dist-packages (from typer[all]<0.10.0,>=0.9.0->langchain-cli) (1.5.4)\n",
            "Requirement already satisfied: rich<14.0.0,>=10.11.0 in /usr/local/lib/python3.10/dist-packages (from typer[all]<0.10.0,>=0.9.0->langchain-cli) (13.7.1)\n",
            "Requirement already satisfied: h11>=0.8 in /usr/local/lib/python3.10/dist-packages (from uvicorn<0.24.0,>=0.23.2->langchain-cli) (0.14.0)\n",
            "Requirement already satisfied: starlette<0.38.0,>=0.37.2 in /usr/local/lib/python3.10/dist-packages (from fastapi<1,>=0.90.1->langserve[all]>=0.0.51->langchain-cli) (0.37.2)\n",
            "Requirement already satisfied: smmap<6,>=3.0.1 in /usr/local/lib/python3.10/dist-packages (from gitdb<5,>=4.0.1->gitpython<4.0.0,>=3.1.40->langchain-cli) (5.0.1)\n",
            "Requirement already satisfied: anyio in /usr/local/lib/python3.10/dist-packages (from httpx>=0.23.0->langserve[all]>=0.0.51->langchain-cli) (3.7.1)\n",
            "Requirement already satisfied: certifi in /usr/local/lib/python3.10/dist-packages (from httpx>=0.23.0->langserve[all]>=0.0.51->langchain-cli) (2024.6.2)\n",
            "Requirement already satisfied: httpcore==1.* in /usr/local/lib/python3.10/dist-packages (from httpx>=0.23.0->langserve[all]>=0.0.51->langchain-cli) (1.0.5)\n",
            "Requirement already satisfied: idna in /usr/local/lib/python3.10/dist-packages (from httpx>=0.23.0->langserve[all]>=0.0.51->langchain-cli) (3.7)\n",
            "Requirement already satisfied: sniffio in /usr/local/lib/python3.10/dist-packages (from httpx>=0.23.0->langserve[all]>=0.0.51->langchain-cli) (1.3.1)\n",
            "Requirement already satisfied: jsonpatch<2.0,>=1.33 in /usr/local/lib/python3.10/dist-packages (from langchain-core<0.3,>=0.1->langserve[all]>=0.0.51->langchain-cli) (1.33)\n",
            "Requirement already satisfied: langsmith<0.2.0,>=0.1.0 in /usr/local/lib/python3.10/dist-packages (from langchain-core<0.3,>=0.1->langserve[all]>=0.0.51->langchain-cli) (0.1.77)\n",
            "Requirement already satisfied: packaging<24.0,>=23.2 in /usr/local/lib/python3.10/dist-packages (from langchain-core<0.3,>=0.1->langserve[all]>=0.0.51->langchain-cli) (23.2)\n",
            "Requirement already satisfied: tenacity<9.0.0,>=8.1.0 in /usr/local/lib/python3.10/dist-packages (from langchain-core<0.3,>=0.1->langserve[all]>=0.0.51->langchain-cli) (8.3.0)\n",
            "Requirement already satisfied: annotated-types>=0.4.0 in /usr/local/lib/python3.10/dist-packages (from pydantic>=1->langserve[all]>=0.0.51->langchain-cli) (0.7.0)\n",
            "Requirement already satisfied: pydantic-core==2.18.4 in /usr/local/lib/python3.10/dist-packages (from pydantic>=1->langserve[all]>=0.0.51->langchain-cli) (2.18.4)\n",
            "Requirement already satisfied: setuptools>=42 in /usr/local/lib/python3.10/dist-packages (from pyproject-toml<0.0.11,>=0.0.10->langserve[all]>=0.0.51->langchain-cli) (67.7.2)\n",
            "Requirement already satisfied: wheel in /usr/local/lib/python3.10/dist-packages (from pyproject-toml<0.0.11,>=0.0.10->langserve[all]>=0.0.51->langchain-cli) (0.43.0)\n",
            "Requirement already satisfied: toml in /usr/local/lib/python3.10/dist-packages (from pyproject-toml<0.0.11,>=0.0.10->langserve[all]>=0.0.51->langchain-cli) (0.10.2)\n",
            "Requirement already satisfied: jsonschema in /usr/local/lib/python3.10/dist-packages (from pyproject-toml<0.0.11,>=0.0.10->langserve[all]>=0.0.51->langchain-cli) (4.19.2)\n",
            "Requirement already satisfied: markdown-it-py>=2.2.0 in /usr/local/lib/python3.10/dist-packages (from rich<14.0.0,>=10.11.0->typer[all]<0.10.0,>=0.9.0->langchain-cli) (3.0.0)\n",
            "Requirement already satisfied: pygments<3.0.0,>=2.13.0 in /usr/local/lib/python3.10/dist-packages (from rich<14.0.0,>=10.11.0->typer[all]<0.10.0,>=0.9.0->langchain-cli) (2.16.1)\n",
            "Requirement already satisfied: jsonpointer>=1.9 in /usr/local/lib/python3.10/dist-packages (from jsonpatch<2.0,>=1.33->langchain-core<0.3,>=0.1->langserve[all]>=0.0.51->langchain-cli) (3.0.0)\n",
            "Requirement already satisfied: requests<3,>=2 in /usr/local/lib/python3.10/dist-packages (from langsmith<0.2.0,>=0.1.0->langchain-core<0.3,>=0.1->langserve[all]>=0.0.51->langchain-cli) (2.31.0)\n",
            "Requirement already satisfied: mdurl~=0.1 in /usr/local/lib/python3.10/dist-packages (from markdown-it-py>=2.2.0->rich<14.0.0,>=10.11.0->typer[all]<0.10.0,>=0.9.0->langchain-cli) (0.1.2)\n",
            "Requirement already satisfied: exceptiongroup in /usr/local/lib/python3.10/dist-packages (from anyio->httpx>=0.23.0->langserve[all]>=0.0.51->langchain-cli) (1.2.1)\n",
            "Requirement already satisfied: attrs>=22.2.0 in /usr/local/lib/python3.10/dist-packages (from jsonschema->pyproject-toml<0.0.11,>=0.0.10->langserve[all]>=0.0.51->langchain-cli) (23.2.0)\n",
            "Requirement already satisfied: jsonschema-specifications>=2023.03.6 in /usr/local/lib/python3.10/dist-packages (from jsonschema->pyproject-toml<0.0.11,>=0.0.10->langserve[all]>=0.0.51->langchain-cli) (2023.12.1)\n",
            "Requirement already satisfied: referencing>=0.28.4 in /usr/local/lib/python3.10/dist-packages (from jsonschema->pyproject-toml<0.0.11,>=0.0.10->langserve[all]>=0.0.51->langchain-cli) (0.35.1)\n",
            "Requirement already satisfied: rpds-py>=0.7.1 in /usr/local/lib/python3.10/dist-packages (from jsonschema->pyproject-toml<0.0.11,>=0.0.10->langserve[all]>=0.0.51->langchain-cli) (0.18.1)\n",
            "Requirement already satisfied: charset-normalizer<4,>=2 in /usr/local/lib/python3.10/dist-packages (from requests<3,>=2->langsmith<0.2.0,>=0.1.0->langchain-core<0.3,>=0.1->langserve[all]>=0.0.51->langchain-cli) (3.3.2)\n",
            "Requirement already satisfied: urllib3<3,>=1.21.1 in /usr/local/lib/python3.10/dist-packages (from requests<3,>=2->langsmith<0.2.0,>=0.1.0->langchain-core<0.3,>=0.1->langserve[all]>=0.0.51->langchain-cli) (2.0.7)\n"
          ]
        }
      ],
      "source": [
        "!pip install -U langchain-cli"
      ]
    },
    {
      "cell_type": "code",
      "source": [
        "!pip install tavily-python"
      ],
      "metadata": {
        "colab": {
          "base_uri": "https://localhost:8080/"
        },
        "id": "ru9AK_5HgqLk",
        "outputId": "b280bc5d-164c-45f9-d0f1-13a2fdfd141d"
      },
      "execution_count": 101,
      "outputs": [
        {
          "output_type": "stream",
          "name": "stdout",
          "text": [
            "Requirement already satisfied: tavily-python in /usr/local/lib/python3.10/dist-packages (0.1.9)\n",
            "Requirement already satisfied: requests in /usr/local/lib/python3.10/dist-packages (from tavily-python) (2.31.0)\n",
            "Requirement already satisfied: charset-normalizer<4,>=2 in /usr/local/lib/python3.10/dist-packages (from requests->tavily-python) (3.3.2)\n",
            "Requirement already satisfied: idna<4,>=2.5 in /usr/local/lib/python3.10/dist-packages (from requests->tavily-python) (3.7)\n",
            "Requirement already satisfied: urllib3<3,>=1.21.1 in /usr/local/lib/python3.10/dist-packages (from requests->tavily-python) (2.0.7)\n",
            "Requirement already satisfied: certifi>=2017.4.17 in /usr/local/lib/python3.10/dist-packages (from requests->tavily-python) (2024.6.2)\n"
          ]
        }
      ]
    },
    {
      "cell_type": "code",
      "source": [
        "from google.colab import userdata\n",
        "import os"
      ],
      "metadata": {
        "id": "77inZvS_4oWC"
      },
      "execution_count": null,
      "outputs": []
    },
    {
      "cell_type": "code",
      "source": [
        "os.environ[\"GOOGLE_API_KEY\"] = userdata.get('GOOGLE_API_KEY')\n",
        "os.environ[\"TAVILY_API_KEY\"] = userdata.get('TAVILY_API_KEY')"
      ],
      "metadata": {
        "id": "OqbGmwLX51xi"
      },
      "execution_count": null,
      "outputs": []
    },
    {
      "cell_type": "code",
      "source": [
        "from typing import List, Tuple\n",
        "\n",
        "from langchain.agents import AgentExecutor\n",
        "from langchain.agents.format_scratchpad import format_to_openai_function_messages\n",
        "from langchain.agents.output_parsers import OpenAIFunctionsAgentOutputParser\n",
        "from langchain_community.tools.tavily_search import TavilySearchResults\n",
        "from langchain_community.utilities.tavily_search import TavilySearchAPIWrapper\n",
        "from langchain_core.messages import AIMessage, HumanMessage\n",
        "from langchain_core.prompts import ChatPromptTemplate, MessagesPlaceholder\n",
        "from langchain_core.pydantic_v1 import BaseModel, Field\n",
        "from langchain_google_genai import ChatGoogleGenerativeAI\n",
        "from langchain.adapters.openai import convert_openai_messages\n",
        "\n",
        "# Create the tool\n",
        "search = TavilySearchAPIWrapper()\n",
        "description = \"\"\"\"A search engine optimized for comprehensive, accurate, \\\n",
        "and trusted results. Useful for when you need to answer questions \\\n",
        "about current events or about recent information. \\\n",
        "Input should be a search query. \\\n",
        "If the user is asking about something that you don't know about, \\\n",
        "you should probably use this tool to see if that can provide any information.\"\"\"\n",
        "tavily_tool = TavilySearchResults(api_wrapper=search, description=description,search_depth = \"advanced\")\n",
        "\n",
        "tools = [tavily_tool]\n",
        "\n",
        "llm = ChatGoogleGenerativeAI(temperature=0, model=\"gemini-pro\", convert_system_message_to_human=True)\n",
        "query = \"What happened in the latest burning man floods?\"\n",
        "tavily_tool = TavilySearchResults(api_wrapper=search, description=description,search_depth = \"advanced\")\n",
        "content = tavily_tool.invoke({\"query\": \"What happened in the latest burning man floods\"})\n",
        "\n",
        "prompt = [{\n",
        "    \"role\": \"system\",\n",
        "    \"content\":  f'You are an AI critical thinker research assistant. '\\\n",
        "                f'Your sole purpose is to write well written, critically acclaimed,'\\\n",
        "                f'objective and structured reports on given text.'\n",
        "}, {\n",
        "    \"role\": \"user\",\n",
        "    \"content\": f'Information: \"\"\"{content}\"\"\"\\n\\n' \\\n",
        "               f'Using the above information, answer the following'\\\n",
        "               f'query: \"{query}\" in a detailed report --'\\\n",
        "               f'write the references'\\\n",
        "\n",
        "}]\n",
        "\n",
        "lc_messages = convert_openai_messages(prompt)\n",
        "report = llm.invoke(lc_messages).content\n",
        "\n",
        "print(report)\n"
      ],
      "metadata": {
        "id": "vBa4EBjM6Fvk",
        "colab": {
          "base_uri": "https://localhost:8080/"
        },
        "outputId": "61320639-6fae-4329-93d0-c343c764f1de"
      },
      "execution_count": 118,
      "outputs": [
        {
          "output_type": "stream",
          "name": "stdout",
          "text": [
            "**Burning Man Floods: Thousands Stranded in Nevada Desert**\n",
            "\n",
            "**Summary**\n",
            "\n",
            "The 2023 Burning Man festival, held in the Black Rock Desert of Nevada, was marred by heavy rains and flooding, leaving thousands of attendees stranded. The festival, which typically attracts over 70,000 people, was forced to close its gates and airport due to impassable roads.\n",
            "\n",
            "**Timeline of Events**\n",
            "\n",
            "* **August 29, 2023:** Heavy rains begin to fall on the Black Rock Desert, turning the playa into a sea of mud.\n",
            "* **August 30, 2023:** Burning Man organizers order attendees to shelter in place as conditions worsen.\n",
            "* **August 31, 2023:** The festival's gates and airport are closed, stranding attendees in the desert.\n",
            "* **September 1, 2023:** Organizers announce that the festival will be extended by one day to allow attendees to leave safely.\n",
            "* **September 4, 2023:** Roads begin to dry out, and attendees are allowed to start leaving the festival.\n",
            "\n",
            "**Impact**\n",
            "\n",
            "The flooding had a significant impact on the festival and its attendees.\n",
            "\n",
            "* **Stranded Attendees:** Over 70,000 attendees were stranded in the desert for several days, with limited access to food, water, and medical care.\n",
            "* **Damaged Infrastructure:** The flooding damaged roads, bridges, and other infrastructure in the Black Rock Desert.\n",
            "* **Environmental Concerns:** The flooding raised concerns about the environmental impact on the fragile desert ecosystem.\n",
            "\n",
            "**Response**\n",
            "\n",
            "Burning Man organizers and local authorities worked together to respond to the flooding.\n",
            "\n",
            "* **Emergency Services:** Emergency services were deployed to the festival to provide medical care and assistance to stranded attendees.\n",
            "* **Road Closures:** Roads were closed to prevent further damage and to allow for cleanup efforts.\n",
            "* **Extended Festival:** The festival was extended by one day to allow attendees to leave safely.\n",
            "\n",
            "**Aftermath**\n",
            "\n",
            "The flooding at Burning Man 2023 was a major event that had a significant impact on the festival and its attendees. Organizers are working to assess the damage and to improve safety measures for future events.\n",
            "\n",
            "**References**\n",
            "\n",
            "* [AP News](https://apnews.com/article/burning-man-flooding-nevada-stranded-3971a523f4b993f8f35e158fd1a17a1e)\n",
            "* [NBC News](https://www.nbcnews.com/news/us-news/live-blog/live-updates-burning-man-flooding-keeps-thousands-stranded-nevada-site-rcna103193)\n",
            "* [Today](https://www.today.com/news/what-is-burning-man-flood-death-rcna103231)\n",
            "* [CNN](https://www.cnn.com/2023/09/05/us/burning-man-storms-shelter-exodus-tuesday/index.html)\n",
            "* [CNN](https://www.cnn.com/us/live-news/nevada-desert-burning-man-weather-rain-09-03-23/index.html)\n"
          ]
        }
      ]
    }
  ]
}